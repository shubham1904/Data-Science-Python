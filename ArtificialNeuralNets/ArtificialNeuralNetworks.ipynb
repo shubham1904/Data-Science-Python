{
 "cells": [
  {
   "cell_type": "code",
   "execution_count": 5,
   "metadata": {},
   "outputs": [],
   "source": [
    "# Importing the libraries\n",
    "import numpy as np\n",
    "import matplotlib.pyplot as plt\n",
    "import pandas as pd\n",
    "import keras\n",
    "from keras.models import Sequential\n",
    "from keras.layers import Dense"
   ]
  },
  {
   "cell_type": "code",
   "execution_count": 6,
   "metadata": {},
   "outputs": [],
   "source": [
    "# Importing the dataset\n",
    "dataset = pd.read_csv('Churn_Modelling.csv')\n",
    "X = dataset.iloc[:, 3:13].values\n",
    "y = dataset.iloc[:, 13].values"
   ]
  },
  {
   "cell_type": "code",
   "execution_count": 7,
   "metadata": {},
   "outputs": [],
   "source": [
    "# Encoding categorical data\n",
    "from sklearn.preprocessing import LabelEncoder, OneHotEncoder\n",
    "labelencoder_X_1 = LabelEncoder()\n",
    "X[:, 1] = labelencoder_X_1.fit_transform(X[:, 1])\n",
    "labelencoder_X_2 = LabelEncoder()\n",
    "X[:, 2] = labelencoder_X_2.fit_transform(X[:, 2])\n",
    "onehotencoder = OneHotEncoder(categorical_features = [1])\n",
    "X = onehotencoder.fit_transform(X).toarray()\n",
    "X = X[:, 1:]"
   ]
  },
  {
   "cell_type": "code",
   "execution_count": 8,
   "metadata": {},
   "outputs": [],
   "source": [
    "# Splitting the dataset into the Training set and Test set\n",
    "from sklearn.model_selection import train_test_split\n",
    "X_train, X_test, y_train, y_test = train_test_split(X, y, test_size = 0.2, random_state = 0)"
   ]
  },
  {
   "cell_type": "code",
   "execution_count": 9,
   "metadata": {},
   "outputs": [],
   "source": [
    "# Feature Scaling\n",
    "from sklearn.preprocessing import StandardScaler\n",
    "sc = StandardScaler()\n",
    "X_train = sc.fit_transform(X_train)\n",
    "X_test = sc.transform(X_test)"
   ]
  },
  {
   "cell_type": "code",
   "execution_count": 10,
   "metadata": {},
   "outputs": [
    {
     "name": "stderr",
     "output_type": "stream",
     "text": [
      "C:\\ProgramData\\Anaconda3\\lib\\site-packages\\ipykernel_launcher.py:5: UserWarning: Update your `Dense` call to the Keras 2 API: `Dense(activation=\"relu\", input_dim=11, units=6, kernel_initializer=\"uniform\")`\n",
      "  \"\"\"\n",
      "C:\\ProgramData\\Anaconda3\\lib\\site-packages\\ipykernel_launcher.py:8: UserWarning: Update your `Dense` call to the Keras 2 API: `Dense(activation=\"relu\", units=6, kernel_initializer=\"uniform\")`\n",
      "  \n",
      "C:\\ProgramData\\Anaconda3\\lib\\site-packages\\ipykernel_launcher.py:11: UserWarning: Update your `Dense` call to the Keras 2 API: `Dense(activation=\"sigmoid\", units=1, kernel_initializer=\"uniform\")`\n",
      "  # This is added back by InteractiveShellApp.init_path()\n"
     ]
    }
   ],
   "source": [
    "# Initialising the ANN\n",
    "classifier = Sequential()\n",
    "\n",
    "# Adding the input layer and the first hidden layer\n",
    "classifier.add(Dense(output_dim = 6, init = 'uniform', activation = 'relu', input_dim = 11))\n",
    "\n",
    "# Adding the second hidden layer\n",
    "classifier.add(Dense(output_dim = 6, init = 'uniform', activation = 'relu'))\n",
    "\n",
    "# Adding the output layer\n",
    "classifier.add(Dense(output_dim = 1, init = 'uniform', activation = 'sigmoid'))"
   ]
  },
  {
   "cell_type": "code",
   "execution_count": 11,
   "metadata": {},
   "outputs": [
    {
     "name": "stderr",
     "output_type": "stream",
     "text": [
      "C:\\ProgramData\\Anaconda3\\lib\\site-packages\\ipykernel_launcher.py:5: UserWarning: The `nb_epoch` argument in `fit` has been renamed `epochs`.\n",
      "  \"\"\"\n"
     ]
    },
    {
     "name": "stdout",
     "output_type": "stream",
     "text": [
      "Epoch 1/100\n",
      "8000/8000 [==============================] - 5s 628us/step - loss: 0.4846 - acc: 0.7951\n",
      "Epoch 2/100\n",
      "8000/8000 [==============================] - 3s 354us/step - loss: 0.4265 - acc: 0.7960\n",
      "Epoch 3/100\n",
      "8000/8000 [==============================] - 3s 339us/step - loss: 0.4184 - acc: 0.8212\n",
      "Epoch 4/100\n",
      "8000/8000 [==============================] - 3s 328us/step - loss: 0.4129 - acc: 0.8310\n",
      "Epoch 5/100\n",
      "8000/8000 [==============================] - 3s 318us/step - loss: 0.4098 - acc: 0.8315\n",
      "Epoch 6/100\n",
      "8000/8000 [==============================] - 3s 389us/step - loss: 0.4071 - acc: 0.8326\n",
      "Epoch 7/100\n",
      "8000/8000 [==============================] - 3s 391us/step - loss: 0.4053 - acc: 0.8346\n",
      "Epoch 8/100\n",
      "8000/8000 [==============================] - 3s 358us/step - loss: 0.4041 - acc: 0.8324\n",
      "Epoch 9/100\n",
      "8000/8000 [==============================] - 3s 339us/step - loss: 0.4027 - acc: 0.8346\n",
      "Epoch 10/100\n",
      "8000/8000 [==============================] - 3s 363us/step - loss: 0.4020 - acc: 0.8337\n",
      "Epoch 11/100\n",
      "8000/8000 [==============================] - 3s 332us/step - loss: 0.4006 - acc: 0.8340\n",
      "Epoch 12/100\n",
      "8000/8000 [==============================] - 3s 365us/step - loss: 0.4001 - acc: 0.8351\n",
      "Epoch 13/100\n",
      "8000/8000 [==============================] - 3s 363us/step - loss: 0.3996 - acc: 0.8337\n",
      "Epoch 14/100\n",
      "8000/8000 [==============================] - 3s 337us/step - loss: 0.3984 - acc: 0.8340\n",
      "Epoch 15/100\n",
      "8000/8000 [==============================] - 2s 308us/step - loss: 0.3983 - acc: 0.8355\n",
      "Epoch 16/100\n",
      "8000/8000 [==============================] - 3s 332us/step - loss: 0.3977 - acc: 0.8346\n",
      "Epoch 17/100\n",
      "8000/8000 [==============================] - 3s 366us/step - loss: 0.3978 - acc: 0.8347\n",
      "Epoch 18/100\n",
      "8000/8000 [==============================] - 3s 400us/step - loss: 0.3975 - acc: 0.8354\n",
      "Epoch 19/100\n",
      "8000/8000 [==============================] - 3s 398us/step - loss: 0.3972 - acc: 0.8347\n",
      "Epoch 20/100\n",
      "8000/8000 [==============================] - 3s 354us/step - loss: 0.3968 - acc: 0.8376\n",
      "Epoch 21/100\n",
      "8000/8000 [==============================] - 3s 357us/step - loss: 0.3968 - acc: 0.8364\n",
      "Epoch 22/100\n",
      "8000/8000 [==============================] - 3s 393us/step - loss: 0.3962 - acc: 0.8351\n",
      "Epoch 23/100\n",
      "8000/8000 [==============================] - 3s 391us/step - loss: 0.3959 - acc: 0.8351\n",
      "Epoch 24/100\n",
      "8000/8000 [==============================] - 3s 395us/step - loss: 0.3958 - acc: 0.8367\n",
      "Epoch 25/100\n",
      "8000/8000 [==============================] - 3s 353us/step - loss: 0.3959 - acc: 0.8372\n",
      "Epoch 26/100\n",
      "8000/8000 [==============================] - 3s 363us/step - loss: 0.3955 - acc: 0.8357\n",
      "Epoch 27/100\n",
      "8000/8000 [==============================] - 3s 346us/step - loss: 0.3958 - acc: 0.8365\n",
      "Epoch 28/100\n",
      "8000/8000 [==============================] - 3s 363us/step - loss: 0.3951 - acc: 0.8376\n",
      "Epoch 29/100\n",
      "8000/8000 [==============================] - 3s 385us/step - loss: 0.3949 - acc: 0.8372\n",
      "Epoch 30/100\n",
      "8000/8000 [==============================] - 3s 332us/step - loss: 0.3951 - acc: 0.8370\n",
      "Epoch 31/100\n",
      "8000/8000 [==============================] - 2s 301us/step - loss: 0.3953 - acc: 0.8362\n",
      "Epoch 32/100\n",
      "8000/8000 [==============================] - 3s 336us/step - loss: 0.3956 - acc: 0.8357\n",
      "Epoch 33/100\n",
      "8000/8000 [==============================] - 3s 363us/step - loss: 0.3946 - acc: 0.8361\n",
      "Epoch 34/100\n",
      "8000/8000 [==============================] - 3s 380us/step - loss: 0.3951 - acc: 0.8369\n",
      "Epoch 35/100\n",
      "8000/8000 [==============================] - 3s 352us/step - loss: 0.3948 - acc: 0.8354\n",
      "Epoch 36/100\n",
      "8000/8000 [==============================] - 2s 303us/step - loss: 0.3947 - acc: 0.8382\n",
      "Epoch 37/100\n",
      "8000/8000 [==============================] - 3s 316us/step - loss: 0.3947 - acc: 0.8380\n",
      "Epoch 38/100\n",
      "8000/8000 [==============================] - 3s 334us/step - loss: 0.3951 - acc: 0.8359\n",
      "Epoch 39/100\n",
      "8000/8000 [==============================] - 3s 330us/step - loss: 0.3945 - acc: 0.8359\n",
      "Epoch 40/100\n",
      "8000/8000 [==============================] - 3s 380us/step - loss: 0.3945 - acc: 0.8357\n",
      "Epoch 41/100\n",
      "8000/8000 [==============================] - 3s 355us/step - loss: 0.3949 - acc: 0.8374\n",
      "Epoch 42/100\n",
      "8000/8000 [==============================] - 2s 310us/step - loss: 0.3945 - acc: 0.8369\n",
      "Epoch 43/100\n",
      "8000/8000 [==============================] - 3s 350us/step - loss: 0.3944 - acc: 0.8366\n",
      "Epoch 44/100\n",
      "8000/8000 [==============================] - 2s 307us/step - loss: 0.3945 - acc: 0.8377\n",
      "Epoch 45/100\n",
      "8000/8000 [==============================] - 3s 332us/step - loss: 0.3939 - acc: 0.8367 0s - loss: 0.3926 - acc\n",
      "Epoch 46/100\n",
      "8000/8000 [==============================] - 3s 404us/step - loss: 0.3941 - acc: 0.8379\n",
      "Epoch 47/100\n",
      "8000/8000 [==============================] - 3s 351us/step - loss: 0.3942 - acc: 0.8361\n",
      "Epoch 48/100\n",
      "8000/8000 [==============================] - 3s 313us/step - loss: 0.3939 - acc: 0.8377\n",
      "Epoch 49/100\n",
      "8000/8000 [==============================] - 3s 342us/step - loss: 0.3938 - acc: 0.8360\n",
      "Epoch 50/100\n",
      "8000/8000 [==============================] - 2s 309us/step - loss: 0.3941 - acc: 0.8359\n",
      "Epoch 51/100\n",
      "8000/8000 [==============================] - 3s 415us/step - loss: 0.3941 - acc: 0.8371 1s\n",
      "Epoch 52/100\n",
      "8000/8000 [==============================] - 3s 361us/step - loss: 0.3939 - acc: 0.8379\n",
      "Epoch 53/100\n",
      "8000/8000 [==============================] - 2s 295us/step - loss: 0.3937 - acc: 0.8370\n",
      "Epoch 54/100\n",
      "8000/8000 [==============================] - 3s 324us/step - loss: 0.3937 - acc: 0.8369\n",
      "Epoch 55/100\n",
      "8000/8000 [==============================] - 2s 309us/step - loss: 0.3942 - acc: 0.8371\n",
      "Epoch 56/100\n",
      "8000/8000 [==============================] - 3s 348us/step - loss: 0.3939 - acc: 0.8366\n",
      "Epoch 57/100\n",
      "8000/8000 [==============================] - 3s 389us/step - loss: 0.3940 - acc: 0.8375\n",
      "Epoch 58/100\n",
      "8000/8000 [==============================] - 3s 354us/step - loss: 0.3937 - acc: 0.8372\n",
      "Epoch 59/100\n",
      "8000/8000 [==============================] - 2s 312us/step - loss: 0.3942 - acc: 0.8370\n",
      "Epoch 60/100\n",
      "8000/8000 [==============================] - 3s 351us/step - loss: 0.3937 - acc: 0.8369\n",
      "Epoch 61/100\n",
      "8000/8000 [==============================] - 2s 299us/step - loss: 0.3931 - acc: 0.8366\n",
      "Epoch 62/100\n",
      "8000/8000 [==============================] - 3s 316us/step - loss: 0.3937 - acc: 0.8357\n",
      "Epoch 63/100\n",
      "8000/8000 [==============================] - 3s 389us/step - loss: 0.3936 - acc: 0.8374\n",
      "Epoch 64/100\n",
      "8000/8000 [==============================] - 3s 364us/step - loss: 0.3935 - acc: 0.8364\n",
      "Epoch 65/100\n",
      "8000/8000 [==============================] - 3s 335us/step - loss: 0.3936 - acc: 0.8356\n",
      "Epoch 66/100\n",
      "8000/8000 [==============================] - ETA: 0s - loss: 0.3931 - acc: 0.838 - 3s 314us/step - loss: 0.3936 - acc: 0.8381\n",
      "Epoch 67/100\n",
      "8000/8000 [==============================] - 2s 298us/step - loss: 0.3931 - acc: 0.8375\n",
      "Epoch 68/100\n",
      "8000/8000 [==============================] - 3s 348us/step - loss: 0.3932 - acc: 0.8364\n",
      "Epoch 69/100\n",
      "8000/8000 [==============================] - 4s 455us/step - loss: 0.3935 - acc: 0.8381\n",
      "Epoch 70/100\n",
      "8000/8000 [==============================] - 3s 394us/step - loss: 0.3928 - acc: 0.8372 1s - loss\n",
      "Epoch 71/100\n",
      "8000/8000 [==============================] - 3s 349us/step - loss: 0.3931 - acc: 0.8384\n",
      "Epoch 72/100\n",
      "8000/8000 [==============================] - 2s 299us/step - loss: 0.3924 - acc: 0.8377\n",
      "Epoch 73/100\n",
      "8000/8000 [==============================] - 2s 311us/step - loss: 0.3920 - acc: 0.8376\n",
      "Epoch 74/100\n",
      "8000/8000 [==============================] - 3s 352us/step - loss: 0.3905 - acc: 0.8364 0s - loss: 0.3915 \n",
      "Epoch 75/100\n",
      "8000/8000 [==============================] - 3s 348us/step - loss: 0.3887 - acc: 0.8399\n",
      "Epoch 76/100\n",
      "8000/8000 [==============================] - 3s 327us/step - loss: 0.3859 - acc: 0.8411 1s -\n",
      "Epoch 77/100\n",
      "8000/8000 [==============================] - 3s 330us/step - loss: 0.3793 - acc: 0.8429\n",
      "Epoch 78/100\n",
      "8000/8000 [==============================] - 2s 301us/step - loss: 0.3738 - acc: 0.8451\n",
      "Epoch 79/100\n",
      "8000/8000 [==============================] - 3s 313us/step - loss: 0.3706 - acc: 0.8469\n",
      "Epoch 80/100\n"
     ]
    },
    {
     "name": "stdout",
     "output_type": "stream",
     "text": [
      "8000/8000 [==============================] - 3s 356us/step - loss: 0.3680 - acc: 0.8485 0s - loss: 0.3650 - acc\n",
      "Epoch 81/100\n",
      "8000/8000 [==============================] - 3s 342us/step - loss: 0.3655 - acc: 0.8489\n",
      "Epoch 82/100\n",
      "8000/8000 [==============================] - 3s 331us/step - loss: 0.3630 - acc: 0.8532\n",
      "Epoch 83/100\n",
      "8000/8000 [==============================] - 2s 301us/step - loss: 0.3607 - acc: 0.8561\n",
      "Epoch 84/100\n",
      "8000/8000 [==============================] - 3s 364us/step - loss: 0.3585 - acc: 0.8575\n",
      "Epoch 85/100\n",
      "8000/8000 [==============================] - 3s 346us/step - loss: 0.3561 - acc: 0.8587\n",
      "Epoch 86/100\n",
      "8000/8000 [==============================] - 3s 391us/step - loss: 0.3550 - acc: 0.8582\n",
      "Epoch 87/100\n",
      "8000/8000 [==============================] - 3s 352us/step - loss: 0.3534 - acc: 0.8589\n",
      "Epoch 88/100\n",
      "8000/8000 [==============================] - 2s 312us/step - loss: 0.3527 - acc: 0.8575\n",
      "Epoch 89/100\n",
      "8000/8000 [==============================] - 2s 294us/step - loss: 0.3511 - acc: 0.8611\n",
      "Epoch 90/100\n",
      "8000/8000 [==============================] - 3s 317us/step - loss: 0.3499 - acc: 0.8609\n",
      "Epoch 91/100\n",
      "8000/8000 [==============================] - 3s 389us/step - loss: 0.3501 - acc: 0.8601\n",
      "Epoch 92/100\n",
      "8000/8000 [==============================] - 3s 380us/step - loss: 0.3481 - acc: 0.8627\n",
      "Epoch 93/100\n",
      "8000/8000 [==============================] - 3s 430us/step - loss: 0.3484 - acc: 0.8599\n",
      "Epoch 94/100\n",
      "8000/8000 [==============================] - 3s 381us/step - loss: 0.3471 - acc: 0.8617\n",
      "Epoch 95/100\n",
      "8000/8000 [==============================] - 3s 334us/step - loss: 0.3478 - acc: 0.8592\n",
      "Epoch 96/100\n",
      "8000/8000 [==============================] - 3s 320us/step - loss: 0.3465 - acc: 0.8622\n",
      "Epoch 97/100\n",
      "8000/8000 [==============================] - 3s 337us/step - loss: 0.3464 - acc: 0.8634\n",
      "Epoch 98/100\n",
      "8000/8000 [==============================] - 3s 424us/step - loss: 0.3461 - acc: 0.8611\n",
      "Epoch 99/100\n",
      "8000/8000 [==============================] - 3s 351us/step - loss: 0.3456 - acc: 0.8627\n",
      "Epoch 100/100\n",
      "8000/8000 [==============================] - 3s 319us/step - loss: 0.3454 - acc: 0.8619\n"
     ]
    },
    {
     "data": {
      "text/plain": [
       "<keras.callbacks.History at 0x1cdbbc16828>"
      ]
     },
     "execution_count": 11,
     "metadata": {},
     "output_type": "execute_result"
    }
   ],
   "source": [
    "# Compiling the ANN\n",
    "classifier.compile(optimizer = 'adam', loss = 'binary_crossentropy', metrics = ['accuracy'])\n",
    "\n",
    "# Fitting the ANN to the Training set\n",
    "classifier.fit(X_train, y_train, batch_size = 10, nb_epoch = 100)"
   ]
  },
  {
   "cell_type": "code",
   "execution_count": 12,
   "metadata": {},
   "outputs": [],
   "source": [
    "# Predicting the Test set results\n",
    "y_pred = classifier.predict(X_test)\n",
    "y_pred = (y_pred > 0.5)"
   ]
  },
  {
   "cell_type": "code",
   "execution_count": 14,
   "metadata": {},
   "outputs": [
    {
     "name": "stdout",
     "output_type": "stream",
     "text": [
      "[[1509   86]\n",
      " [ 190  215]]\n"
     ]
    }
   ],
   "source": [
    "# Making the Confusion Matrix\n",
    "from sklearn.metrics import confusion_matrix\n",
    "cm = confusion_matrix(y_test, y_pred)\n",
    "print(cm)"
   ]
  },
  {
   "cell_type": "code",
   "execution_count": null,
   "metadata": {},
   "outputs": [],
   "source": []
  }
 ],
 "metadata": {
  "kernelspec": {
   "display_name": "Python 3",
   "language": "python",
   "name": "python3"
  },
  "language_info": {
   "codemirror_mode": {
    "name": "ipython",
    "version": 3
   },
   "file_extension": ".py",
   "mimetype": "text/x-python",
   "name": "python",
   "nbconvert_exporter": "python",
   "pygments_lexer": "ipython3",
   "version": "3.6.5"
  }
 },
 "nbformat": 4,
 "nbformat_minor": 2
}
