{
 "cells": [
  {
   "cell_type": "code",
   "execution_count": 3,
   "metadata": {},
   "outputs": [],
   "source": [
    "import numpy as np\n",
    "import re\n",
    "from itertools import groupby"
   ]
  },
  {
   "cell_type": "code",
   "execution_count": 2,
   "metadata": {},
   "outputs": [
    {
     "name": "stdout",
     "output_type": "stream",
     "text": [
      "Enter the year to be checked:2018\n",
      "2018 is not a leap year\n"
     ]
    }
   ],
   "source": [
    "#Q1. Write a program to check a year is a leap year or not.\n",
    "#Input – Your program should take one year as input\n",
    "#Output — Your program should print whether the year is or is not a leap year.\n",
    "\n",
    "def leap_year_check(year):\n",
    "    if (year%4 == 0) and ((year%400 == 0) or (year%100 != 0)):\n",
    "        print('{} is a leap year'.format(year))\n",
    "    else:\n",
    "        print('{} is not a leap year'.format(year))\n",
    "year = int(input('Enter the year to be checked:'))\n",
    "leap_year_check(year)"
   ]
  },
  {
   "cell_type": "code",
   "execution_count": 2,
   "metadata": {},
   "outputs": [
    {
     "name": "stdout",
     "output_type": "stream",
     "text": [
      "Enter an integer of your choice to guess:45\n",
      "Lower your guess!\n",
      "Enter an integer of your choice to guess:35\n",
      "Raise your guess!\n",
      "Enter an integer of your choice to guess:40\n",
      "Lower your guess!\n",
      "Enter an integer of your choice to guess:38\n",
      "Lower your guess!\n",
      "Enter an integer of your choice to guess:37\n",
      "Lower your guess!\n",
      "Enter an integer of your choice to guess:36\n",
      "Wohoo, you have guessed the number correctly!!\n",
      "You required 6 guesses\n"
     ]
    }
   ],
   "source": [
    "#Q2. The computer will pick a number between 1 and 100. (You can choose any high number you want.)\n",
    "#The purpose of the game is to guess the number the computer picked in as few guesses as possible.\n",
    "#Input – The user will enter his or her guess until the correct number is guessed.\n",
    "#Output — The program will keep asking the user to guess until he or she gets the number correct.\n",
    "#Then the program will print how many guesses were required.\n",
    "\n",
    "flag = 0\n",
    "count = 0 \n",
    "actual_number = int(np.random.randint(1,100,1))\n",
    "while(flag != 1):\n",
    "    count = count+1\n",
    "    number = int(input('Enter an integer of your choice to guess:'))\n",
    "    if(number == actual_number):\n",
    "        flag = 1\n",
    "        print('Wohoo, you have guessed the number correctly!!')\n",
    "    elif(number > actual_number):\n",
    "        print('Lower your guess!')\n",
    "    elif(number < actual_number):\n",
    "        print('Raise your guess!')\n",
    "print(\"You required {} guesses\".format(count))"
   ]
  },
  {
   "cell_type": "code",
   "execution_count": 3,
   "metadata": {},
   "outputs": [
    {
     "name": "stdout",
     "output_type": "stream",
     "text": [
      "<class 'function'>\n"
     ]
    }
   ],
   "source": [
    "#Q3. What gets printed?\n",
    "#def f() : pass\n",
    "#print(type(f()))\n",
    "\n",
    "#<class ‘function’>\n",
    "#<class ‘tuple’>\n",
    "#<class ‘NoneType’>\n",
    "#<class ‘type’>\n",
    "\n",
    "\n",
    "def f(): pass\n",
    "print(type(f))"
   ]
  },
  {
   "cell_type": "code",
   "execution_count": 4,
   "metadata": {},
   "outputs": [
    {
     "name": "stdout",
     "output_type": "stream",
     "text": [
      "6\n"
     ]
    }
   ],
   "source": [
    "#Q4. What is the output for below programs?\n",
    "#A = [1, 2, 3, None, (), [], ]\n",
    "#print(len(A))\n",
    "#Syntax error\n",
    "#5\n",
    "#6\n",
    "#7\n",
    "\n",
    "A = [1, 2, 3, None, (), [], ]\n",
    "print(len(A))"
   ]
  },
  {
   "cell_type": "code",
   "execution_count": 19,
   "metadata": {},
   "outputs": [
    {
     "name": "stdout",
     "output_type": "stream",
     "text": [
      "Enter values of c:100,150,180\n",
      "[22, 27, 30]\n"
     ]
    }
   ],
   "source": [
    "#Q5. Write a program that calculates and prints the value according to the given formula:\n",
    "#R = Square root of [(3 * A * C)/B]\n",
    "#Following are the fixed values of A and B: A is 50. B is 30.\n",
    "#C is the variable whose values should be input to your program in a comma-separated sequence.\n",
    "#Input: 100, 150, 180\n",
    "#Output: 18,22,24\n",
    "a=50\n",
    "b=30\n",
    "r=0\n",
    "output = []\n",
    "c_input = list(input('Enter values of c:'))\n",
    "c_list = ''.join(c_input).split(',')\n",
    "for c in c_list:\n",
    "    r = int(np.sqrt((3*a*int(c))/b))\n",
    "    output.append(r)\n",
    "print(output)"
   ]
  },
  {
   "cell_type": "code",
   "execution_count": 5,
   "metadata": {},
   "outputs": [
    {
     "name": "stdout",
     "output_type": "stream",
     "text": [
      "Enter your sentence here:Hello world!\n",
      "Upper case characters in sentence:1\n",
      "Lower case characters in sentence:9\n"
     ]
    }
   ],
   "source": [
    "#Q6. Write a program that accepts a sentence and calculate \n",
    "#the number of uppercase letters and lowercase letters.\n",
    "#Input: Hello world!\n",
    "#Output: Upper – 1, Lower – 9\n",
    "\n",
    "sentence = input('Enter your sentence here:')\n",
    "upper = [x for x in sentence if x.isupper()]\n",
    "lower = [x for x in sentence if x.islower()]\n",
    "print('Upper case characters in sentence:{}'.format(len(upper)))\n",
    "print('Lower case characters in sentence:{}'.format(len(lower)))"
   ]
  },
  {
   "cell_type": "code",
   "execution_count": 23,
   "metadata": {},
   "outputs": [
    {
     "name": "stdout",
     "output_type": "stream",
     "text": [
      "Please enter a number:23\n",
      "Prime\n"
     ]
    }
   ],
   "source": [
    "#Q7. Write a function in Python to test whether a number is prime or not.\n",
    "#Input: 9\n",
    "#Output: “Not Prime”\n",
    "\n",
    "n = int(input(\"Please enter a number:\"))\n",
    "def is_prime(a):\n",
    "    x = True\n",
    "    for i in range(2, a):\n",
    "            if a%i == 0:\n",
    "                x = False\n",
    "                break\n",
    "            else:\n",
    "                x = True\n",
    "    if x:\n",
    "        print(\"Prime\")\n",
    "    else:\n",
    "        print (\"Not Prime\")\n",
    "is_prime(n)"
   ]
  },
  {
   "cell_type": "code",
   "execution_count": 40,
   "metadata": {},
   "outputs": [
    {
     "name": "stdout",
     "output_type": "stream",
     "text": [
      "dict_keys([1, 2, 3, 4, 5, 6, 7, 8, 9, 10, 11, 12, 13, 14, 15, 16, 17, 18, 19, 20])\n",
      "dict_values([1, 4, 9, 16, 25, 36, 49, 64, 81, 100, 121, 144, 169, 196, 225, 256, 289, 324, 361, 400])\n"
     ]
    }
   ],
   "source": [
    "#Q8. Define a function which can generate a dictionary where the keys are numbers between 1 and 20 \n",
    "#(both included) and the values are square of keys. The function should just print the keys only.\n",
    "\n",
    "def dict_gene():\n",
    "    keys = [x for x in range(1,21)]\n",
    "    values = [key**2 for key in keys]\n",
    "    dictionary = dict(zip(keys,values))\n",
    "    print(dictionary.keys())\n",
    "    print(dictionary.values())\n",
    "    #return dictionary\n",
    "dict_gene()"
   ]
  },
  {
   "cell_type": "code",
   "execution_count": 61,
   "metadata": {},
   "outputs": [
    {
     "data": {
      "text/plain": [
       "[20, 30, -20, 60]"
      ]
     },
     "execution_count": 61,
     "metadata": {},
     "output_type": "execute_result"
    }
   ],
   "source": [
    "#Q9. Given a list of integers with duplicate elements in it. \n",
    "#The task to generate another list, which contains only the duplicate elements. \n",
    "#In simple words, the new list should contain the elements which appear more than one.\n",
    "#Input: [10, 20, 30, 20, 20, 30, 40, 50, -20, 60, 60, -20, -20]\n",
    "#Output: [20, 30, -20, 60]\n",
    "\n",
    "def duplicate(s):\n",
    "    d_s = {x:s.count(x) for x in s}\n",
    "    d_s_duplicates = [key for key in d_s.keys() if d_s[key]!=1]\n",
    "    return d_s_duplicates\n",
    "duplicate([10, 20, 30, 20, 20, 30, 40, 50, -20, 60, 60, -20, -20])"
   ]
  },
  {
   "cell_type": "code",
   "execution_count": 3,
   "metadata": {},
   "outputs": [
    {
     "name": "stdout",
     "output_type": "stream",
     "text": [
      "Enter you string here:Hello World!\n",
      "No of vowels present:3\n"
     ]
    }
   ],
   "source": [
    "#Q10. Write a Python Program to Count the Number of Vowels in a String?\n",
    "\n",
    "string = input('Enter you string here:')\n",
    "def vowel_count(s):\n",
    "    count=0\n",
    "    vowel = ['a','e','i','o','u']\n",
    "    for x in ''.join(string.lower().split()):\n",
    "        if x in vowel:\n",
    "            count +=1\n",
    "    return count\n",
    "vowels = vowel_count(string)\n",
    "print('No of vowels present:{}'.format(vowels))"
   ]
  },
  {
   "cell_type": "code",
   "execution_count": 2,
   "metadata": {},
   "outputs": [
    {
     "name": "stdout",
     "output_type": "stream",
     "text": [
      "Enter a number:10\n"
     ]
    },
    {
     "data": {
      "text/plain": [
       "17"
      ]
     },
     "execution_count": 2,
     "metadata": {},
     "output_type": "execute_result"
    }
   ],
   "source": [
    "#Q11. The sum of the primes below 10 is 2 + 3 + 5 + 7 = 17. \n",
    "#Find the sum of all the primes below one million.\n",
    "\n",
    "n = int(input(\"Enter a number:\"))\n",
    "def is_prime(a):\n",
    "    x = True\n",
    "    for i in range(2, a):\n",
    "            if a%i == 0:\n",
    "                x = False\n",
    "                break\n",
    "            else:\n",
    "                x = True\n",
    "    return x\n",
    "\n",
    "def sum_prime(b):\n",
    "    sum=0\n",
    "    prime_list = [prime for prime in range(2,b) if is_prime(prime)]\n",
    "    for prime in prime_list:\n",
    "        sum += prime\n",
    "    return sum\n",
    "sum_prime(n)"
   ]
  },
  {
   "cell_type": "code",
   "execution_count": 24,
   "metadata": {},
   "outputs": [
    {
     "name": "stdout",
     "output_type": "stream",
     "text": [
      "906609\n"
     ]
    }
   ],
   "source": [
    "#Q12.  A palindrome number reads the same both ways. \n",
    "#The largest palindrome made from the product of two 2-digit numbers is 9009 = 91 × 99.\n",
    "#Find the largest palindrome made from the product of two 3-digit numbers.\n",
    "\n",
    "\n",
    "largest_pal = 0\n",
    "for a in range(999, 99, -1):\n",
    "    for b in range(a, 99, -1):\n",
    "        prod = a * b\n",
    "        if int(str(prod)[::-1]) == prod and prod > largest_pal:\n",
    "            largest_pal = prod\n",
    "\n",
    "print(largest_pal)"
   ]
  },
  {
   "cell_type": "code",
   "execution_count": 7,
   "metadata": {},
   "outputs": [
    {
     "name": "stdout",
     "output_type": "stream",
     "text": [
      "Enter the string for case conversion:PytHoN\n",
      "pYThOn\n"
     ]
    }
   ],
   "source": [
    "#Q13. You are given a string and your task is to swap cases. In other words, convert all lowercase letters to uppercase letters and vice versa.\n",
    "#Input: ‘PytHoN’\n",
    "#Output: ‘pYThOn’\n",
    "\n",
    "string = input('Enter the string for case conversion:')\n",
    "result = ''.join([x.lower() if x.isupper() else x.upper() for x in ''.join(string.split())])\n",
    "print(result)"
   ]
  },
  {
   "cell_type": "code",
   "execution_count": 28,
   "metadata": {},
   "outputs": [
    {
     "name": "stdout",
     "output_type": "stream",
     "text": [
      "Enter a list of comma-separated numbers:5,6,4,7,3,8\n",
      "[5, 6, 4, 7, 3, 8]\n",
      "4\n",
      "4\n"
     ]
    }
   ],
   "source": [
    "#Q14. Find the second smallest element in a list without using any predefined sort function.\n",
    "#Note- Try to solve the same in a single iteration.\n",
    "\n",
    "inp = input('Enter a list of comma-separated numbers:')\n",
    "l = inp.split(',')\n",
    "l =[int(x) for x in l]\n",
    "print(l)\n",
    "def second_smallest(numbers):\n",
    "    m1, m2 = numbers[0], numbers[0]\n",
    "    for x in numbers:\n",
    "        if x <= m1:\n",
    "            m1, m2 = x, m1\n",
    "        elif x < m2:\n",
    "            m2 = x\n",
    "    return m2\n",
    "second_lowest = second_smallest(l)\n",
    "print(second_lowest)\n",
    "print(sorted(l)[1])"
   ]
  },
  {
   "cell_type": "code",
   "execution_count": 9,
   "metadata": {},
   "outputs": [
    {
     "name": "stdout",
     "output_type": "stream",
     "text": [
      "Enter your mail id here:abcd@gmail.com\n",
      "abcd\n"
     ]
    }
   ],
   "source": [
    "#Q15. If we have some email addresses in the “username@companyname.com” format, \n",
    "#please write a program to print the username of a given email address.\n",
    "#Both usernames and company names are composed of letters only.\n",
    "\n",
    "email = input('Enter your mail id here:')\n",
    "username = email.split('@')[0]\n",
    "print(username)"
   ]
  },
  {
   "cell_type": "code",
   "execution_count": 14,
   "metadata": {},
   "outputs": [
    {
     "name": "stdout",
     "output_type": "stream",
     "text": [
      "Enter 16 digit credit card number:42536258796157867\n",
      "INVALID\n",
      "Enter 16 digit credit card number:4563-6258-7961-5786\n",
      "VALID\n",
      "Enter 16 digit credit card number:45636-258-7961-5786\n",
      "INVALID\n",
      "Enter 16 digit credit card number:4566-6658-7961-5786\n",
      "INVALID\n",
      "Enter 16 digit credit card number:4563625879615786\n",
      "VALID\n"
     ]
    }
   ],
   "source": [
    "#Q16. You are working with a banking firm where your job is to verify credit card numbers. \n",
    "#A valid credit card has the following characteristics –\n",
    "#It must start with 4, 5, 6.\n",
    "#It must contain exactly 16 characters.\n",
    "#It must only consist of digits (0-9).\n",
    "#It may have digits in groups of, separated by one hyphen “-“.\n",
    "#It must NOT use any other separator like ‘ ‘ , ‘_’, etc.\n",
    "#It must NOT have or more consecutive repeated digits\n",
    "#Input: 42536258796157867\n",
    "#Output: INVALID\n",
    "i=5\n",
    "def count_consecutive(num):\n",
    "    return max(len(list(g)) for _, g in groupby(num))\n",
    "               \n",
    "def credit_card_validation(card_number):\n",
    "    pattern1 = re.match('456[0-9]{12}',card_number)\n",
    "    pattern2 = re.match('456[0-9]{1}\\-(?:\\d{4}-?){2}\\d{4}',card_number)\n",
    "    if ((pattern1 and len(card_number)==16) or (pattern2 and len(card_number)==19)) and (count_consecutive(card_number.replace('-', '')) < 4):\n",
    "        print('VALID')\n",
    "    else:\n",
    "        print('INVALID')\n",
    "while(i!=0):  \n",
    "    i -= 1\n",
    "    num = input('Enter 16 digit credit card number:')\n",
    "    credit_card_validation(num)"
   ]
  },
  {
   "cell_type": "code",
   "execution_count": 16,
   "metadata": {},
   "outputs": [
    {
     "name": "stdout",
     "output_type": "stream",
     "text": [
      "360360\n"
     ]
    }
   ],
   "source": [
    "#Q17. Find the smallest number which is divisible by all the numbers between 1 to 15.\n",
    "\n",
    "from math import gcd\n",
    "a = [x for x in range(1,16)]\n",
    "lcm = a[0]\n",
    "for i in a[1:]:\n",
    "     lcm = int(lcm*i/gcd(lcm, i))\n",
    "print(lcm)"
   ]
  },
  {
   "cell_type": "code",
   "execution_count": 57,
   "metadata": {},
   "outputs": [
    {
     "name": "stdout",
     "output_type": "stream",
     "text": [
      "Using nested loop:\n",
      "[[1, 2, 3], [4, 5, 6], [7, 8, 9]]\n",
      "[[9, 8, 7], [6, 5, 4], [3, 2, 1]]\n",
      "\n",
      "\n",
      "Result:\n",
      "[[10, 10, 10], [10, 10, 10], [10, 10, 10]]\n",
      "\n",
      "\n",
      "Using Numpy Array:\n",
      "[[5 0 6]\n",
      " [1 5 0]\n",
      " [1 1 8]]\n",
      "\n",
      "\n",
      "[[18 18 17]\n",
      " [12 17 17]\n",
      " [17 12 19]]\n",
      "\n",
      "\n",
      "Result:\n",
      "[[23 18 23]\n",
      " [13 22 17]\n",
      " [18 13 27]]\n"
     ]
    }
   ],
   "source": [
    "#Q18. Write a program to add two 3×3 matrices using the nested loop.\n",
    "#Note- try the same program using Numpy array.\n",
    "print('Using nested loop:')\n",
    "m1 = [[1,2,3],[4,5,6],[7,8,9]]\n",
    "m2=[[9,8,7],[6,5,4],[3,2,1]]\n",
    "print(m1)\n",
    "print(m2)\n",
    "for i in range(len(m1)):\n",
    "    for j in range(len(m1)):\n",
    "        m1[i][j] = m1[i][j] + m2[i][j]\n",
    "print('\\n')\n",
    "print('Result:')\n",
    "print(m1)\n",
    "\n",
    "print('\\n')\n",
    "print('Using Numpy Array:')\n",
    "m_np1 = np.random.randint(0,10,(3,3))\n",
    "m_np2 = np.random.randint(10,20,(3,3))\n",
    "print(m_np1)\n",
    "print('\\n')\n",
    "print(m_np2)\n",
    "print('\\n')\n",
    "print('Result:')\n",
    "print(m_np1+m_np2)"
   ]
  },
  {
   "cell_type": "code",
   "execution_count": null,
   "metadata": {},
   "outputs": [],
   "source": []
  }
 ],
 "metadata": {
  "kernelspec": {
   "display_name": "Python 3",
   "language": "python",
   "name": "python3"
  },
  "language_info": {
   "codemirror_mode": {
    "name": "ipython",
    "version": 3
   },
   "file_extension": ".py",
   "mimetype": "text/x-python",
   "name": "python",
   "nbconvert_exporter": "python",
   "pygments_lexer": "ipython3",
   "version": "3.6.5"
  }
 },
 "nbformat": 4,
 "nbformat_minor": 2
}
