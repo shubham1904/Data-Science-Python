{
 "cells": [
  {
   "cell_type": "code",
   "execution_count": 5,
   "metadata": {},
   "outputs": [],
   "source": [
    "#Importing libraries.\n",
    "\n",
    "import numpy as np\n",
    "import matplotlib.pyplot as plt\n",
    "import pandas as pd\n",
    "import keras\n",
    "from keras.models import Sequential\n",
    "from keras.layers import Dense,Convolution2D,Flatten,MaxPooling2D\n",
    "from pathlib import *"
   ]
  },
  {
   "cell_type": "code",
   "execution_count": 7,
   "metadata": {},
   "outputs": [
    {
     "data": {
      "text/plain": [
       "'C:\\\\Users\\\\SHUBHAM.PARAB/Downloads/ImageClassification'"
      ]
     },
     "execution_count": 7,
     "metadata": {},
     "output_type": "execute_result"
    }
   ],
   "source": [
    "#Getting the data from downloads directory.\n",
    "\n",
    "location = str(Path.home())+'/Downloads/ImageClassification'\n",
    "location"
   ]
  },
  {
   "cell_type": "code",
   "execution_count": 23,
   "metadata": {},
   "outputs": [
    {
     "name": "stderr",
     "output_type": "stream",
     "text": [
      "C:\\ProgramData\\Anaconda3\\lib\\site-packages\\ipykernel_launcher.py:2: UserWarning: Update your `Conv2D` call to the Keras 2 API: `Conv2D(32, (3, 3), input_shape=(256, 256,..., activation=\"relu\")`\n",
      "  \n",
      "C:\\ProgramData\\Anaconda3\\lib\\site-packages\\ipykernel_launcher.py:4: UserWarning: Update your `Conv2D` call to the Keras 2 API: `Conv2D(32, (3, 3), activation=\"relu\")`\n",
      "  after removing the cwd from sys.path.\n",
      "C:\\ProgramData\\Anaconda3\\lib\\site-packages\\ipykernel_launcher.py:7: UserWarning: Update your `Dense` call to the Keras 2 API: `Dense(activation=\"relu\", units=256)`\n",
      "  import sys\n",
      "C:\\ProgramData\\Anaconda3\\lib\\site-packages\\ipykernel_launcher.py:8: UserWarning: Update your `Dense` call to the Keras 2 API: `Dense(activation=\"relu\", units=256)`\n",
      "  \n",
      "C:\\ProgramData\\Anaconda3\\lib\\site-packages\\ipykernel_launcher.py:9: UserWarning: Update your `Dense` call to the Keras 2 API: `Dense(activation=\"sigmoid\", units=1)`\n",
      "  if __name__ == '__main__':\n"
     ]
    }
   ],
   "source": [
    "#No of convolution layers =32\n",
    "#Size of filter = 3*3\n",
    "#Input image size = 256*256, 3=RGB plane\n",
    "#Activation function = 'relu' to introduce non-linearity\n",
    "#Pooling filter size = 2*2\n",
    "#No of hidden layers = 2\n",
    "\n",
    "classifier = Sequential()\n",
    "classifier.add(Convolution2D(32,3,3,input_shape=(256,256,3),activation='relu'))\n",
    "classifier.add(MaxPooling2D(pool_size=(2,2)))\n",
    "classifier.add(Convolution2D(32,3,3,activation='relu'))\n",
    "classifier.add(MaxPooling2D(pool_size=(2,2)))\n",
    "classifier.add(Flatten())\n",
    "classifier.add(Dense(output_dim = 256, activation='relu'))\n",
    "classifier.add(Dense(output_dim =256,activation='relu'))\n",
    "classifier.add(Dense(output_dim = 1,activation='sigmoid'))\n",
    "classifier.compile(optimizer='adam',loss='binary_crossentropy',metrics=['accuracy'])"
   ]
  },
  {
   "cell_type": "code",
   "execution_count": 24,
   "metadata": {},
   "outputs": [],
   "source": [
    "#Fitting CNN to images\n",
    "#Image augmentation process to avoid overfitting on training set.\n",
    "#This ensures that test set accuracy is good by avoiding overfitting on train images.\n",
    "\n",
    "from keras.preprocessing.image import ImageDataGenerator\n",
    "train_datagen = ImageDataGenerator(rescale=1./255,shear_range=0.2,zoom_range=0.2,horizontal_flip=True)\n",
    "test_datagen = ImageDataGenerator(rescale = 1./255)"
   ]
  },
  {
   "cell_type": "code",
   "execution_count": 25,
   "metadata": {},
   "outputs": [
    {
     "name": "stdout",
     "output_type": "stream",
     "text": [
      "Found 20 images belonging to 2 classes.\n",
      "Found 20 images belonging to 2 classes.\n"
     ]
    }
   ],
   "source": [
    "#Creating training and test data from images.\n",
    "\n",
    "train_data = train_datagen.flow_from_directory(location+'/train',target_size=(256,256),batch_size=5,class_mode='binary')\n",
    "test_data = test_datagen.flow_from_directory(location+'/test',target_size=(256,256),batch_size=5,class_mode='binary')"
   ]
  },
  {
   "cell_type": "code",
   "execution_count": 26,
   "metadata": {},
   "outputs": [
    {
     "name": "stderr",
     "output_type": "stream",
     "text": [
      "C:\\ProgramData\\Anaconda3\\lib\\site-packages\\ipykernel_launcher.py:1: UserWarning: The semantics of the Keras 2 argument `steps_per_epoch` is not the same as the Keras 1 argument `samples_per_epoch`. `steps_per_epoch` is the number of batches to draw from the generator at each epoch. Basically steps_per_epoch = samples_per_epoch/batch_size. Similarly `nb_val_samples`->`validation_steps` and `val_samples`->`steps` arguments have changed. Update your method calls accordingly.\n",
      "  \"\"\"Entry point for launching an IPython kernel.\n",
      "C:\\ProgramData\\Anaconda3\\lib\\site-packages\\ipykernel_launcher.py:1: UserWarning: Update your `fit_generator` call to the Keras 2 API: `fit_generator(<keras_pre..., steps_per_epoch=20, validation_data=<keras_pre..., epochs=25, validation_steps=20)`\n",
      "  \"\"\"Entry point for launching an IPython kernel.\n"
     ]
    },
    {
     "name": "stdout",
     "output_type": "stream",
     "text": [
      "Epoch 1/25\n",
      "20/20 [==============================] - 65s 3s/step - loss: 1.6621 - acc: 0.6600 - val_loss: 0.8553 - val_acc: 0.7000\n",
      "Epoch 2/25\n",
      "20/20 [==============================] - 57s 3s/step - loss: 0.1454 - acc: 0.9600 - val_loss: 2.5010 - val_acc: 0.7000\n",
      "Epoch 3/25\n",
      "20/20 [==============================] - 58s 3s/step - loss: 0.0636 - acc: 0.9800 - val_loss: 2.8827 - val_acc: 0.6500\n",
      "Epoch 4/25\n",
      "20/20 [==============================] - 57s 3s/step - loss: 0.0120 - acc: 1.0000 - val_loss: 3.8899 - val_acc: 0.6500\n",
      "Epoch 5/25\n",
      "20/20 [==============================] - 59s 3s/step - loss: 0.0011 - acc: 1.0000 - val_loss: 4.3013 - val_acc: 0.6500\n",
      "Epoch 6/25\n",
      "20/20 [==============================] - 58s 3s/step - loss: 9.5109e-04 - acc: 1.0000 - val_loss: 3.9668 - val_acc: 0.6500\n",
      "Epoch 7/25\n",
      "20/20 [==============================] - 59s 3s/step - loss: 1.1381e-04 - acc: 1.0000 - val_loss: 3.9823 - val_acc: 0.6500\n",
      "Epoch 8/25\n",
      "20/20 [==============================] - 58s 3s/step - loss: 2.8230e-04 - acc: 1.0000 - val_loss: 4.0212 - val_acc: 0.6500\n",
      "Epoch 9/25\n",
      "20/20 [==============================] - 59s 3s/step - loss: 6.9356e-05 - acc: 1.0000 - val_loss: 4.1206 - val_acc: 0.6500\n",
      "Epoch 10/25\n",
      "20/20 [==============================] - 58s 3s/step - loss: 2.0441e-05 - acc: 1.0000 - val_loss: 4.1150 - val_acc: 0.6500\n",
      "Epoch 11/25\n",
      "20/20 [==============================] - 58s 3s/step - loss: 2.8579e-05 - acc: 1.0000 - val_loss: 4.1059 - val_acc: 0.6500\n",
      "Epoch 12/25\n",
      "20/20 [==============================] - 57s 3s/step - loss: 4.3117e-05 - acc: 1.0000 - val_loss: 4.1048 - val_acc: 0.6500\n",
      "Epoch 13/25\n",
      "20/20 [==============================] - 58s 3s/step - loss: 2.2619e-05 - acc: 1.0000 - val_loss: 4.1269 - val_acc: 0.6500\n",
      "Epoch 14/25\n",
      "20/20 [==============================] - 58s 3s/step - loss: 3.9501e-05 - acc: 1.0000 - val_loss: 4.1447 - val_acc: 0.6500\n",
      "Epoch 15/25\n",
      "20/20 [==============================] - 58s 3s/step - loss: 2.3868e-05 - acc: 1.0000 - val_loss: 4.1914 - val_acc: 0.6500\n",
      "Epoch 16/25\n",
      "20/20 [==============================] - 57s 3s/step - loss: 1.5582e-05 - acc: 1.0000 - val_loss: 4.1858 - val_acc: 0.6500\n",
      "Epoch 17/25\n",
      "20/20 [==============================] - 58s 3s/step - loss: 1.3701e-05 - acc: 1.0000 - val_loss: 4.1805 - val_acc: 0.6500\n",
      "Epoch 18/25\n",
      "20/20 [==============================] - 58s 3s/step - loss: 1.7541e-05 - acc: 1.0000 - val_loss: 4.1664 - val_acc: 0.6500\n",
      "Epoch 19/25\n",
      "20/20 [==============================] - 58s 3s/step - loss: 1.6885e-05 - acc: 1.0000 - val_loss: 4.1603 - val_acc: 0.6500\n",
      "Epoch 20/25\n",
      "20/20 [==============================] - 61s 3s/step - loss: 2.4190e-05 - acc: 1.0000 - val_loss: 4.1753 - val_acc: 0.6500\n",
      "Epoch 21/25\n",
      "20/20 [==============================] - 58s 3s/step - loss: 1.6545e-05 - acc: 1.0000 - val_loss: 4.1737 - val_acc: 0.6500\n",
      "Epoch 22/25\n",
      "20/20 [==============================] - 58s 3s/step - loss: 1.8235e-05 - acc: 1.0000 - val_loss: 4.1806 - val_acc: 0.6500\n",
      "Epoch 23/25\n",
      "20/20 [==============================] - 58s 3s/step - loss: 1.4380e-05 - acc: 1.0000 - val_loss: 4.2019 - val_acc: 0.6500\n",
      "Epoch 24/25\n",
      "20/20 [==============================] - 59s 3s/step - loss: 3.2212e-05 - acc: 1.0000 - val_loss: 4.1786 - val_acc: 0.6500\n",
      "Epoch 25/25\n",
      "20/20 [==============================] - 59s 3s/step - loss: 9.3173e-06 - acc: 1.0000 - val_loss: 4.1902 - val_acc: 0.6500\n"
     ]
    },
    {
     "data": {
      "text/plain": [
       "<keras.callbacks.History at 0x2d854642400>"
      ]
     },
     "execution_count": 26,
     "metadata": {},
     "output_type": "execute_result"
    }
   ],
   "source": [
    "#Applying the CNN model to the data and getting the prediction.\n",
    "\n",
    "classifier.fit_generator(train_data,steps_per_epoch=20,nb_epoch=25,validation_data=test_data,nb_val_samples=20)"
   ]
  },
  {
   "cell_type": "code",
   "execution_count": null,
   "metadata": {},
   "outputs": [],
   "source": []
  }
 ],
 "metadata": {
  "kernelspec": {
   "display_name": "Python 3",
   "language": "python",
   "name": "python3"
  },
  "language_info": {
   "codemirror_mode": {
    "name": "ipython",
    "version": 3
   },
   "file_extension": ".py",
   "mimetype": "text/x-python",
   "name": "python",
   "nbconvert_exporter": "python",
   "pygments_lexer": "ipython3",
   "version": "3.6.5"
  }
 },
 "nbformat": 4,
 "nbformat_minor": 2
}
