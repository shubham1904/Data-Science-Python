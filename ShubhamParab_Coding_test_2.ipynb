{
 "cells": [
  {
   "cell_type": "code",
   "execution_count": 1,
   "metadata": {},
   "outputs": [],
   "source": [
    "import numpy as np"
   ]
  },
  {
   "cell_type": "code",
   "execution_count": 5,
   "metadata": {},
   "outputs": [
    {
     "name": "stdout",
     "output_type": "stream",
     "text": [
      "Enter no of rows:3\n",
      "Enter no of columns:5\n",
      "[[0. 0. 0. 0. 0.]\n",
      " [0. 1. 2. 3. 4.]\n",
      " [0. 2. 4. 6. 8.]]\n"
     ]
    }
   ],
   "source": [
    "#Q1. Write a program which takes 2 digits, X, Y as input and generates a 2-dimensional array. \n",
    "#The element value in the i-th row and j-th column of the array should be i*j.\n",
    "#Note: i = 0,1.., X-1;   j=0,1,¡Y-1.\n",
    "\n",
    "#Input – 3,5\n",
    "#Output – [[0, 0, 0, 0, 0], [0, 1, 2, 3, 4], [0, 2, 4, 6, 8]] \n",
    "\n",
    "rows = int(input('Enter no of rows:'))\n",
    "cols = int(input('Enter no of columns:'))\n",
    "def array_build(x,y):\n",
    "    array = np.empty((x,y))\n",
    "    for i in range(0,rows):\n",
    "        for j in range(0,cols):\n",
    "            array[i,j] = i*j\n",
    "    print(array)\n",
    "array_build(rows,cols)"
   ]
  },
  {
   "cell_type": "code",
   "execution_count": 8,
   "metadata": {},
   "outputs": [
    {
     "name": "stdout",
     "output_type": "stream",
     "text": [
      "Enter the sentences:Hello world.Practice makes perfect.\n",
      "HELLO WORLD\n",
      "PRACTICE MAKES PERFECT\n",
      "\n"
     ]
    }
   ],
   "source": [
    "#Q2. Write a program that accepts the sequence of lines as input and prints the lines after making \n",
    "#all characters in the sentence capitalized.\n",
    "\n",
    "#Input:\n",
    "#Hello world\n",
    "#Practice makes perfect\n",
    "#Output:\n",
    "#HELLO WORLD\n",
    "#PRACTICE MAKES PERFECT\n",
    "\n",
    "sequences = input('Enter the sentences:')\n",
    "def capitalize(s):\n",
    "    s = s.split('.')\n",
    "    for sentence in s:\n",
    "        capital = ''.join([word.upper() for word in sentence])\n",
    "        print(capital)\n",
    "capitalize(sequences)"
   ]
  },
  {
   "cell_type": "code",
   "execution_count": 14,
   "metadata": {},
   "outputs": [
    {
     "name": "stdout",
     "output_type": "stream",
     "text": [
      "Enter a number:100\n",
      "[35, 70]\n"
     ]
    }
   ],
   "source": [
    "#Q3. Write a program using a generator to print the numbers which can be divisible by 5 and 7 \n",
    "#between 0 and n in comma separated form while n is input by a console.\n",
    "\n",
    "number = int(input('Enter a number:'))\n",
    "def div_5_7(n):\n",
    "    num_list = [num for num in range(1,n) if (num%5==0 and num%7==0)]\n",
    "    print(num_list)\n",
    "div_5_7(number)"
   ]
  },
  {
   "cell_type": "code",
   "execution_count": 21,
   "metadata": {},
   "outputs": [
    {
     "name": "stdout",
     "output_type": "stream",
     "text": [
      "Enter a string:H1e2l3l4o5w6o7r8l9d\n",
      "Helloworld\n"
     ]
    }
   ],
   "source": [
    "#Q4. Write a program which accepts a string from console and print the characters\n",
    "#that have even indexes.\n",
    "#Input: “H1e2l3l4o5w6o7r8l9d”\n",
    "#Output: “Helloworld”\n",
    "\n",
    "string = input('Enter a string:')\n",
    "def even_indices(s):\n",
    "    even_char = ''.join([s[i] for i in range(0,len(s),2)])\n",
    "    print(even_char)\n",
    "even_indices(string)"
   ]
  },
  {
   "cell_type": "code",
   "execution_count": 49,
   "metadata": {},
   "outputs": [
    {
     "name": "stdout",
     "output_type": "stream",
     "text": [
      "3\n"
     ]
    }
   ],
   "source": [
    "#Q5. Given a string, find the length of the longest substring without repeating characters.\n",
    "\n",
    "#Input: “pwwkew”\n",
    "#Output: 3\n",
    "#Explanation: The answer is “wke”, with the length of 3. \n",
    "#Note that the answer must be a substring, “pwke” is a subsequence and not a substring.\n",
    "\n",
    "def substring(s):\n",
    "    sub_str =[]\n",
    "    sub_strings={}\n",
    "    for char in s:\n",
    "        if char not in sub_str:\n",
    "            sub_str.append(char)\n",
    "        else:\n",
    "            sub_strings[''.join(sub_str)] = len(sub_str)\n",
    "            sub_str = []\n",
    "            sub_str.append(char)\n",
    "    print(max(sub_strings.items())[1])\n",
    "substring('pwwkew')"
   ]
  },
  {
   "cell_type": "code",
   "execution_count": 4,
   "metadata": {},
   "outputs": [
    {
     "name": "stdout",
     "output_type": "stream",
     "text": [
      "MCMXCIV\n"
     ]
    }
   ],
   "source": [
    "#Q6. Given an integer, convert it to a roman numeral. \n",
    "#Input is guaranteed to be within the range from 1 to 3999.\n",
    "\n",
    "#Input: 1994\n",
    "#Output: “MCMXCIV”\n",
    "#Explanation: M = 1000, CM = 900, XC = 90 and IV = 4.\n",
    "\n",
    "import math \n",
    "def integerToRoman(A): \n",
    "    roman =  { 1: \"I\", 5: \"V\", 10: \"X\", 50: \"L\", 100: \"C\", 500: \"D\", 1000: \"M\", 5000: \"G\", 10000: \"H\"} \n",
    "    div = 1\n",
    "    while A >= div: \n",
    "        div *= 10\n",
    "  \n",
    "    div /= 10\n",
    "  \n",
    "    res = \"\" \n",
    "  \n",
    "    while A:   \n",
    "        lastNum = int(A / div) \n",
    "        if lastNum <= 3: \n",
    "            res += (roman[div] * lastNum) \n",
    "        elif lastNum == 4: \n",
    "            res += (roman[div] + roman[div * 5]) \n",
    "        elif 5 <= lastNum <= 8: \n",
    "            res += (roman[div * 5] + (roman[div] * (lastNum - 5))) \n",
    "        elif lastNum == 9: \n",
    "            res += (roman[div] + roman[div * 10]) \n",
    "        A = math.floor(A % div) \n",
    "        div /= 10\n",
    "          \n",
    "    return res \n",
    "print(integerToRoman(1994))"
   ]
  },
  {
   "cell_type": "code",
   "execution_count": 26,
   "metadata": {},
   "outputs": [
    {
     "name": "stdout",
     "output_type": "stream",
     "text": [
      "*** Introductory Examples for the NLTK Book ***\n",
      "Loading text1, ..., text9 and sent1, ..., sent9\n",
      "Type the name of the text or sentence to view it.\n",
      "Type: 'texts()' or 'sents()' to list the materials.\n",
      "text1: Moby Dick by Herman Melville 1851\n",
      "text2: Sense and Sensibility by Jane Austen 1811\n",
      "text3: The Book of Genesis\n",
      "text4: Inaugural Address Corpus\n",
      "text5: Chat Corpus\n",
      "text6: Monty Python and the Holy Grail\n",
      "text7: Wall Street Journal\n",
      "text8: Personals Corpus\n",
      "text9: The Man Who Was Thursday by G . K . Chesterton 1908\n",
      "Enter text here:We tried list and we tried dicts also we tried Zen\n",
      "[('tried', 3), ('we', 2), ('We', 1), ('list', 1), ('and', 1), ('dicts', 1), ('also', 1), ('Zen', 1)]\n"
     ]
    }
   ],
   "source": [
    "#Q7. Given a string s of length at most 10,000 letters. \n",
    "#Create a dictionary with the number of occurrences of each word in s as values, \n",
    "#where words are separated by spaces. Words are case-sensitive, and the lines in the output can be \n",
    "#in any order.\n",
    "#Input: “We tried list and we tried dicts also we tried Zen”\n",
    "#Output: {‘and’: 1, ‘We’: 1, ‘tried’: 3, ‘dicts’: 1, ‘list’: 1, ‘we’: 2, ‘also’: 1, ‘Zen’: 1}\n",
    "import nltk\n",
    "#nltk.download('gutenberg');\n",
    "#nltk.download('genesis');\n",
    "#nltk.download('inaugural');\n",
    "#nltk.download('nps_chat') ;\n",
    "#nltk.download('webtext');\n",
    "#nltk.download('treebank');\n",
    "from nltk.book import *\n",
    "s = input('Enter text here:')\n",
    "fdist = FreqDist(s.split())\n",
    "print(fdist.most_common())"
   ]
  },
  {
   "cell_type": "code",
   "execution_count": 69,
   "metadata": {},
   "outputs": [
    {
     "name": "stdout",
     "output_type": "stream",
     "text": [
      "Enter 2 strings of equal length(comma separated):GAGCCTACTAACGGGAT,CATCGTAATGACGGCCT\n",
      "7\n"
     ]
    }
   ],
   "source": [
    "#Q8. Given two strings s and t of equal length. Find the Hamming distance between s and t, \n",
    "#denoted by dH(s,t), which is the number of corresponding symbols that differ in s and t.\n",
    "#Input: s – “GAGCCTACTAACGGGAT”\n",
    "#t – “CATCGTAATGACGGCCT”\n",
    "#Output: 7\n",
    "strings = input('Enter 2 strings of equal length(comma separated):')\n",
    "def hamming(string):\n",
    "    count=0\n",
    "    s = string.split(',')[0]\n",
    "    t = string.split(',')[1]\n",
    "    if len(s) == len(t):\n",
    "        for i in range(len(s)):\n",
    "            if s[i] != t[i]:\n",
    "                count+=1\n",
    "    return count\n",
    "distance = hamming(strings)\n",
    "print(distance)"
   ]
  },
  {
   "cell_type": "code",
   "execution_count": 74,
   "metadata": {},
   "outputs": [
    {
     "data": {
      "text/plain": [
       "3"
      ]
     },
     "execution_count": 74,
     "metadata": {},
     "output_type": "execute_result"
    }
   ],
   "source": [
    "#Q9. Given two integers dividend and divisor, divide two integers without using multiplication, \n",
    "#division and mod operator. Return the quotient after dividing dividend by divisor.\n",
    "#Note- The integer division should truncate toward zero.\n",
    "#Input: dividend = 10, divisor = 3\n",
    "#Output: 3\n",
    "\n",
    "def division(dividend,divisor):\n",
    "    quotient = 0\n",
    "    while(dividend>=divisor):\n",
    "        dividend-=divisor\n",
    "        quotient+=1\n",
    "    return quotient\n",
    "result = division(10,3)\n",
    "result"
   ]
  },
  {
   "cell_type": "code",
   "execution_count": 18,
   "metadata": {},
   "outputs": [
    {
     "name": "stdout",
     "output_type": "stream",
     "text": [
      "[(1, 2, 3), (1, 3, 2), (2, 1, 3), (2, 3, 1), (3, 1, 2), (3, 2, 1)]\n"
     ]
    }
   ],
   "source": [
    "#Q10. Given a collection of distinct integers, return all possible permutations.\n",
    "#Input: [1,2,3]\n",
    "#Output: [[1,2,3], [1,3,2], [2,1,3], [2,3,1], [3,1,2], [3,2,1]]\n",
    "\n",
    "from itertools import permutations\n",
    "l = list(permutations([1,2,3]))\n",
    "print(l)"
   ]
  },
  {
   "cell_type": "code",
   "execution_count": 76,
   "metadata": {},
   "outputs": [
    {
     "name": "stdout",
     "output_type": "stream",
     "text": [
      "Enter a number:10\n",
      "Number of prime numbers below 10 is: 4\n"
     ]
    }
   ],
   "source": [
    "#Q11. Write a function to count the number of prime numbers less than a non-negative number, n.\n",
    "#Input: 10\n",
    "#Output: 4\n",
    "#Explanation: There are 4 prime numbers less than 10, they are 2, 3, 5, 7.\n",
    "\n",
    "n = int(input(\"Enter a number:\"))\n",
    "def is_prime(a):\n",
    "    x = True\n",
    "    for i in range(2, a):\n",
    "            if a%i == 0:\n",
    "                x = False\n",
    "                break\n",
    "            else:\n",
    "                x = True\n",
    "    return x\n",
    "\n",
    "def count_prime(b):\n",
    "    sum=0\n",
    "    prime_list = [prime for prime in range(2,b) if is_prime(prime)]\n",
    "    return len(prime_list)\n",
    "count = count_prime(n)\n",
    "print('Number of prime numbers below {} is: {}'.format(n,count))"
   ]
  },
  {
   "cell_type": "code",
   "execution_count": 107,
   "metadata": {},
   "outputs": [
    {
     "name": "stdout",
     "output_type": "stream",
     "text": [
      "Enter string here:cbacdcbc\n",
      "['a', 'b', 'c', 'd']\n"
     ]
    }
   ],
   "source": [
    "#Q12. Given a string which contains only lowercase letters, remove duplicate letters \n",
    "#so that every letter appears once and only once. You must make sure your result is the smallest\n",
    "#in lexicographical order among all possible results.\n",
    "#Input: “cbacdcbc”\n",
    "#Output: “acdb”\n",
    "\n",
    "string = input('Enter string here:')\n",
    "letters = sorted(string)\n",
    "lexico_order=[]\n",
    "for char in letters:\n",
    "    if char not in lexico_order:\n",
    "        lexico_order.append(char) \n",
    "print(lexico_order)"
   ]
  },
  {
   "cell_type": "code",
   "execution_count": 27,
   "metadata": {},
   "outputs": [
    {
     "name": "stdout",
     "output_type": "stream",
     "text": [
      "Enter a number:4\n",
      "24\n"
     ]
    }
   ],
   "source": [
    "#Q13. Write a function FirstFactorial (num) take the num parameter being passed and return the \n",
    "#factorial of it. For example: if num = 4, then your program should return (4 * 3 * 2 * 1) = 24.\n",
    "#Also, write an error catch statement to make sure the input value is a number.\n",
    "\n",
    "\n",
    "def FirstFactorial():\n",
    "    factorial = 1\n",
    "    try:\n",
    "        num = int(input('Enter a number:'))\n",
    "        if num == 0 :\n",
    "            print('1')\n",
    "        elif num < 0:\n",
    "            print('Factorial does not exist')\n",
    "        else:\n",
    "            for i in range(1,num+1):\n",
    "                factorial = factorial*i\n",
    "            print(factorial) \n",
    "    except ValueError:\n",
    "        print('Input is invalid.Please enter an integer!')\n",
    "FirstFactorial()"
   ]
  },
  {
   "cell_type": "code",
   "execution_count": 25,
   "metadata": {},
   "outputs": [
    {
     "name": "stdout",
     "output_type": "stream",
     "text": [
      "[1, 2, 4, 5, 7, 9, 10, 12, 14, 16, 23, 25]\n"
     ]
    }
   ],
   "source": [
    "#Q14. Given an integer ‘n’, generate the first ‘n’ terms of the Connell Sequence.\n",
    "#Connell Sequence is the sequence formed with the first odd number, i.e 1 as its first term. \n",
    "#The subsequent terms of the sequence are made up of the first two even numbers, i.e 2 and 4,\n",
    "#followed by the next three odd numbers, i.e 5, 7 and 9, followed by the next four even numbers, \n",
    "#i.e 10, 12, 14 and 16 and so on …. the sequence continues.\n",
    "\n",
    "def connell_seq(n):\n",
    "    connell = [1]\n",
    "    i=1\n",
    "    end_term = 0\n",
    "    while(i!=0):\n",
    "        i+=1\n",
    "        if(i%2 == 0):\n",
    "            end_term = i**2\n",
    "            even=[]\n",
    "            while(end_term > (i-1)**2):\n",
    "                connell.append(end_term)\n",
    "                end_term -= 2\n",
    "        if(i%2 == 1):\n",
    "            end_term = i**2\n",
    "            odd=[]\n",
    "            while(end_term > (i-1)**2):\n",
    "                connell.append(end_term)\n",
    "                end_term -= 2\n",
    "        if len(connell)>n:\n",
    "            i=0\n",
    "            print(sorted(connell[:n]))\n",
    "connell_seq(12)"
   ]
  },
  {
   "cell_type": "code",
   "execution_count": 16,
   "metadata": {},
   "outputs": [
    {
     "name": "stdout",
     "output_type": "stream",
     "text": [
      "17\n"
     ]
    }
   ],
   "source": [
    "#Q16. Rohit recently made a robot which reduces his effort to move things. The robot moves from \n",
    "#one place to another in a straight line to move things, but it has got a bug in it.\n",
    "#After moving Y meters forward, it comes back X meters. Now Rohit wants to know how much \n",
    "#total distance the robot covers if it needs to reach Z meters from the starting point. \n",
    "#Help him find this. It is guaranteed that the robot will reach its destination.\n",
    "\n",
    "#Input: Y- 5, X- 2, Z- 9\n",
    "#Output: 17\n",
    "\n",
    "def total_dist(y,x,z):\n",
    "    total=0\n",
    "    location=0\n",
    "    step=0\n",
    "    while(location<z):\n",
    "        location = location + y - x\n",
    "        total = total+x+y\n",
    "        if location>=z-y:\n",
    "            step = z-location \n",
    "            total = total + step\n",
    "            location = location+step\n",
    "    print(total)\n",
    "total_dist(5,2,9)"
   ]
  },
  {
   "cell_type": "code",
   "execution_count": 20,
   "metadata": {},
   "outputs": [
    {
     "name": "stdout",
     "output_type": "stream",
     "text": [
      "40730\n"
     ]
    }
   ],
   "source": [
    "#Q18. 145 is a curious number, as 1! + 4! + 5! = 1 + 24 + 120 = 145. Find the sum of all numbers \n",
    "#(below 50,000) which are equal to the sum of the factorial of their digits.\n",
    "#Note: as 1! = 1 and 2! = 2 are not sums they are not included.\n",
    "from math import factorial\n",
    "def fact_sum(numrange):\n",
    "    factsum=0\n",
    "    for num in range(10,numrange):\n",
    "        sum1=0\n",
    "        temp=num\n",
    "        while(num):\n",
    "            f=1\n",
    "            r=num%10\n",
    "            f = factorial(r)\n",
    "            sum1=sum1+f\n",
    "            num=num//10\n",
    "        if(sum1==temp):\n",
    "            factsum += sum1\n",
    "    print(factsum)\n",
    "fact_sum(50000)"
   ]
  },
  {
   "cell_type": "code",
   "execution_count": null,
   "metadata": {},
   "outputs": [],
   "source": []
  }
 ],
 "metadata": {
  "kernelspec": {
   "display_name": "Python 3",
   "language": "python",
   "name": "python3"
  },
  "language_info": {
   "codemirror_mode": {
    "name": "ipython",
    "version": 3
   },
   "file_extension": ".py",
   "mimetype": "text/x-python",
   "name": "python",
   "nbconvert_exporter": "python",
   "pygments_lexer": "ipython3",
   "version": "3.6.5"
  }
 },
 "nbformat": 4,
 "nbformat_minor": 2
}
